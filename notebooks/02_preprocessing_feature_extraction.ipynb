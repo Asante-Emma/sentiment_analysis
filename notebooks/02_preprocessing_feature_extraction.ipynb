{
 "cells": [
  {
   "cell_type": "code",
   "execution_count": 1,
   "metadata": {},
   "outputs": [],
   "source": [
    "import pandas as pd\n",
    "import re\n",
    "from nltk.corpus import stopwords\n",
    "from nltk.stem import WordNetLemmatizer\n",
    "from sklearn.model_selection import train_test_split\n",
    "from sklearn.feature_extraction.text import TfidfVectorizer\n",
    "import joblib"
   ]
  },
  {
   "cell_type": "code",
   "execution_count": 2,
   "metadata": {},
   "outputs": [],
   "source": [
    "# Load the dataset\n",
    "data = pd.read_csv('../data/raw/IMDB Dataset.csv')"
   ]
  },
  {
   "cell_type": "markdown",
   "metadata": {},
   "source": [
    "### Data Cleaning and Preprocessing"
   ]
  },
  {
   "cell_type": "code",
   "execution_count": 3,
   "metadata": {},
   "outputs": [],
   "source": [
    "# Initialize lemmatizer and stop words\n",
    "stop_words = set(stopwords.words('english'))\n",
    "lemmatizer = WordNetLemmatizer()"
   ]
  },
  {
   "cell_type": "code",
   "execution_count": 4,
   "metadata": {},
   "outputs": [],
   "source": [
    "# Function to clean and preprocess the reviews\n",
    "def preprocess_review(review):\n",
    "    # Remove HTML tags and special characters\n",
    "    review = re.sub(r'<.*?>', ' ', review)  # Remove HTML tags\n",
    "    review = re.sub(r'[^a-zA-Z\\s]', '', review)  # Remove special characters\n",
    "    review = review.lower().strip()  # Convert to lowercase and strip whitespace\n",
    "\n",
    "    # Tokenization\n",
    "    words = review.split()\n",
    "\n",
    "    # Stopword removal and lemmatization\n",
    "    words = [lemmatizer.lemmatize(word) for word in words if word not in stop_words]\n",
    "    \n",
    "    return ' '.join(words)"
   ]
  },
  {
   "cell_type": "code",
   "execution_count": 5,
   "metadata": {},
   "outputs": [],
   "source": [
    "# Apply preprocessing to the review column\n",
    "data['cleaned_review'] = data['review'].apply(preprocess_review)"
   ]
  },
  {
   "cell_type": "code",
   "execution_count": 6,
   "metadata": {},
   "outputs": [
    {
     "data": {
      "text/html": [
       "<div>\n",
       "<style scoped>\n",
       "    .dataframe tbody tr th:only-of-type {\n",
       "        vertical-align: middle;\n",
       "    }\n",
       "\n",
       "    .dataframe tbody tr th {\n",
       "        vertical-align: top;\n",
       "    }\n",
       "\n",
       "    .dataframe thead th {\n",
       "        text-align: right;\n",
       "    }\n",
       "</style>\n",
       "<table border=\"1\" class=\"dataframe\">\n",
       "  <thead>\n",
       "    <tr style=\"text-align: right;\">\n",
       "      <th></th>\n",
       "      <th>review</th>\n",
       "      <th>cleaned_review</th>\n",
       "      <th>sentiment</th>\n",
       "    </tr>\n",
       "  </thead>\n",
       "  <tbody>\n",
       "    <tr>\n",
       "      <th>12723</th>\n",
       "      <td>Going by the good words of my friends, I hired...</td>\n",
       "      <td>going good word friend hired movie hoping woul...</td>\n",
       "      <td>negative</td>\n",
       "    </tr>\n",
       "    <tr>\n",
       "      <th>42624</th>\n",
       "      <td>******************SPOILER********************S...</td>\n",
       "      <td>spoilerspoiler movie stunk let say totally agr...</td>\n",
       "      <td>negative</td>\n",
       "    </tr>\n",
       "    <tr>\n",
       "      <th>10899</th>\n",
       "      <td>Even though Ian Kershaw distanced himself from...</td>\n",
       "      <td>even though ian kershaw distanced project due ...</td>\n",
       "      <td>positive</td>\n",
       "    </tr>\n",
       "    <tr>\n",
       "      <th>37869</th>\n",
       "      <td>Someone told me that this was one of the best ...</td>\n",
       "      <td>someone told one best adult movie date since d...</td>\n",
       "      <td>negative</td>\n",
       "    </tr>\n",
       "    <tr>\n",
       "      <th>16926</th>\n",
       "      <td>As others have said, \"No, Luciano\" is a more a...</td>\n",
       "      <td>others said luciano apt title response movie t...</td>\n",
       "      <td>negative</td>\n",
       "    </tr>\n",
       "    <tr>\n",
       "      <th>2365</th>\n",
       "      <td>There is so much that is wrong with this film,...</td>\n",
       "      <td>much wrong film sum terrible acting bad must p...</td>\n",
       "      <td>negative</td>\n",
       "    </tr>\n",
       "    <tr>\n",
       "      <th>26284</th>\n",
       "      <td>Is this a bad movie?&lt;br /&gt;&lt;br /&gt;Of course, wha...</td>\n",
       "      <td>bad movie course expecting movie called beach ...</td>\n",
       "      <td>positive</td>\n",
       "    </tr>\n",
       "    <tr>\n",
       "      <th>6763</th>\n",
       "      <td>Now, i hired this movie because Brad Dourif wa...</td>\n",
       "      <td>hired movie brad dourif excellent actor brilli...</td>\n",
       "      <td>negative</td>\n",
       "    </tr>\n",
       "    <tr>\n",
       "      <th>20386</th>\n",
       "      <td>Rented this out from my local because it was t...</td>\n",
       "      <td>rented local new british film available week n...</td>\n",
       "      <td>positive</td>\n",
       "    </tr>\n",
       "    <tr>\n",
       "      <th>15725</th>\n",
       "      <td>This movie really shows its age. The print I s...</td>\n",
       "      <td>movie really show age print saw terrible due a...</td>\n",
       "      <td>negative</td>\n",
       "    </tr>\n",
       "  </tbody>\n",
       "</table>\n",
       "</div>"
      ],
      "text/plain": [
       "                                                  review  \\\n",
       "12723  Going by the good words of my friends, I hired...   \n",
       "42624  ******************SPOILER********************S...   \n",
       "10899  Even though Ian Kershaw distanced himself from...   \n",
       "37869  Someone told me that this was one of the best ...   \n",
       "16926  As others have said, \"No, Luciano\" is a more a...   \n",
       "2365   There is so much that is wrong with this film,...   \n",
       "26284  Is this a bad movie?<br /><br />Of course, wha...   \n",
       "6763   Now, i hired this movie because Brad Dourif wa...   \n",
       "20386  Rented this out from my local because it was t...   \n",
       "15725  This movie really shows its age. The print I s...   \n",
       "\n",
       "                                          cleaned_review sentiment  \n",
       "12723  going good word friend hired movie hoping woul...  negative  \n",
       "42624  spoilerspoiler movie stunk let say totally agr...  negative  \n",
       "10899  even though ian kershaw distanced project due ...  positive  \n",
       "37869  someone told one best adult movie date since d...  negative  \n",
       "16926  others said luciano apt title response movie t...  negative  \n",
       "2365   much wrong film sum terrible acting bad must p...  negative  \n",
       "26284  bad movie course expecting movie called beach ...  positive  \n",
       "6763   hired movie brad dourif excellent actor brilli...  negative  \n",
       "20386  rented local new british film available week n...  positive  \n",
       "15725  movie really show age print saw terrible due a...  negative  "
      ]
     },
     "execution_count": 6,
     "metadata": {},
     "output_type": "execute_result"
    }
   ],
   "source": [
    "# Display the first few rows of the cleaned data\n",
    "data[['review', 'cleaned_review', 'sentiment']].sample(10)"
   ]
  },
  {
   "cell_type": "markdown",
   "metadata": {},
   "source": [
    "### Feature Extraction"
   ]
  },
  {
   "cell_type": "code",
   "execution_count": 7,
   "metadata": {},
   "outputs": [],
   "source": [
    "# Prepare features and labels\n",
    "X = data['cleaned_review']  # Features (cleaned reviews)\n",
    "y = data['sentiment']  # Labels (positive/negative)"
   ]
  },
  {
   "cell_type": "code",
   "execution_count": 8,
   "metadata": {},
   "outputs": [],
   "source": [
    "# TF-IDF Representation\n",
    "tfidf_vectorizer = TfidfVectorizer(max_features=5000)  # Limit to top 5000 features\n",
    "X_tfidf = tfidf_vectorizer.fit_transform(X)"
   ]
  },
  {
   "cell_type": "code",
   "execution_count": 9,
   "metadata": {},
   "outputs": [],
   "source": [
    "# Train-Test-Validation Split\n",
    "X_train, X_temp, y_train, y_temp = train_test_split(X_tfidf, y, test_size=0.2, random_state=42)\n",
    "X_val, X_test, y_val, y_test = train_test_split(X_temp, y_temp, test_size=0.5, random_state=42)"
   ]
  },
  {
   "cell_type": "code",
   "execution_count": 10,
   "metadata": {},
   "outputs": [],
   "source": [
    "# Save the datasets\n",
    "train_data = pd.DataFrame(X_train.toarray(), columns=tfidf_vectorizer.get_feature_names_out())\n",
    "train_data['sentiment'] = y_train.reset_index(drop=True)\n",
    "\n",
    "val_data = pd.DataFrame(X_val.toarray(), columns=tfidf_vectorizer.get_feature_names_out())\n",
    "val_data['sentiment'] = y_val.reset_index(drop=True)\n",
    "\n",
    "test_data = pd.DataFrame(X_test.toarray(), columns=tfidf_vectorizer.get_feature_names_out())\n",
    "test_data['sentiment'] = y_test.reset_index(drop=True)"
   ]
  },
  {
   "cell_type": "code",
   "execution_count": 12,
   "metadata": {},
   "outputs": [],
   "source": [
    "# Define the paths for saving the zip files\n",
    "train_zip_path = '../data/processed/train_data.zip'\n",
    "val_zip_path = '../data/processed/val_data.zip'\n",
    "test_zip_path = '../data/processed/test_data.zip'\n",
    "\n",
    "# Save the datasets as CSV files inside a zip file\n",
    "train_data.to_csv(train_zip_path, index=False, compression={'method': 'zip', 'archive_name': 'train_data.csv'})\n",
    "val_data.to_csv(val_zip_path, index=False, compression={'method': 'zip', 'archive_name': 'val_data.csv'})\n",
    "test_data.to_csv(test_zip_path, index=False, compression={'method': 'zip', 'archive_name': 'test_data.csv'})"
   ]
  },
  {
   "cell_type": "code",
   "execution_count": 13,
   "metadata": {},
   "outputs": [
    {
     "name": "stdout",
     "output_type": "stream",
     "text": [
      "Training data shape: (40000, 5000)\n",
      "Validation data shape: (5000, 5000)\n",
      "Testing data shape: (5000, 5000)\n"
     ]
    }
   ],
   "source": [
    "# Display the shapes of the splits\n",
    "print(\"Training data shape:\", X_train.shape)\n",
    "print(\"Validation data shape:\", X_val.shape)\n",
    "print(\"Testing data shape:\", X_test.shape)"
   ]
  },
  {
   "cell_type": "code",
   "execution_count": 14,
   "metadata": {},
   "outputs": [
    {
     "data": {
      "text/plain": [
       "['../models/tfidf_vectorizer.joblib']"
      ]
     },
     "execution_count": 14,
     "metadata": {},
     "output_type": "execute_result"
    }
   ],
   "source": [
    "# Save the TF-IDF vectorizer\n",
    "joblib.dump(tfidf_vectorizer, '../models/tfidf_vectorizer.joblib')"
   ]
  },
  {
   "cell_type": "code",
   "execution_count": null,
   "metadata": {},
   "outputs": [],
   "source": []
  }
 ],
 "metadata": {
  "kernelspec": {
   "display_name": "deep_learning",
   "language": "python",
   "name": "python3"
  },
  "language_info": {
   "codemirror_mode": {
    "name": "ipython",
    "version": 3
   },
   "file_extension": ".py",
   "mimetype": "text/x-python",
   "name": "python",
   "nbconvert_exporter": "python",
   "pygments_lexer": "ipython3",
   "version": "3.8.19"
  }
 },
 "nbformat": 4,
 "nbformat_minor": 2
}
